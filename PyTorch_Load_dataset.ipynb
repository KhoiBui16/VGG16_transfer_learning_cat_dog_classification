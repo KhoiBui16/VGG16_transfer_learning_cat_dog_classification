{
 "cells": [
  {
   "cell_type": "code",
   "execution_count": 9,
   "id": "713394e4-566e-4d92-aded-52370896bb55",
   "metadata": {},
   "outputs": [],
   "source": [
    "from torchvision import datasets, transforms\n",
    "from torch.utils.data import DataLoader\n",
    "\n",
    "transform = transforms.Compose([\n",
    "    transforms.Resize((224, 224)),\n",
    "    transforms.ToTensor(),\n",
    "])"
   ]
  },
  {
   "cell_type": "markdown",
   "id": "da0beacd-30f1-447d-a953-3ae43c99f191",
   "metadata": {},
   "source": [
    "# Load Dataset"
   ]
  },
  {
   "cell_type": "code",
   "execution_count": 5,
   "id": "9a771e9a-32b5-4dc0-84b1-09213b896c89",
   "metadata": {},
   "outputs": [],
   "source": [
    "train_dataset = datasets.ImageFolder(\n",
    "    'data/train', transform=transform\n",
    ")\n",
    "\n",
    "test_dataset = datasets.ImageFolder(\n",
    "     'data/test', transform=transform\n",
    ")"
   ]
  },
  {
   "cell_type": "markdown",
   "id": "57359750-c5ff-4818-9da2-3a6066b7f5d9",
   "metadata": {},
   "source": [
    "# Create data loaders"
   ]
  },
  {
   "cell_type": "code",
   "execution_count": 11,
   "id": "1964728b-fd9d-4a9d-a774-b94d07450c20",
   "metadata": {},
   "outputs": [],
   "source": [
    "train_loader = DataLoader(\n",
    "    train_dataset, batch_size=32, shuffle=True\n",
    ")\n",
    "\n",
    "test_loader = DataLoader(\n",
    "    test_dataset, batch_size=32, shuffle=False\n",
    ")"
   ]
  },
  {
   "cell_type": "code",
   "execution_count": 15,
   "id": "dfbc464d-ac7c-4868-b13d-8341eb26ca64",
   "metadata": {},
   "outputs": [
    {
     "name": "stdout",
     "output_type": "stream",
     "text": [
      "625\n",
      "157\n"
     ]
    }
   ],
   "source": [
    "print(len(train_loader))\n",
    "print(len(test_loader))"
   ]
  },
  {
   "cell_type": "code",
   "execution_count": 13,
   "id": "d6c270b2-5168-48d8-9f5e-546ae20b0fa3",
   "metadata": {},
   "outputs": [
    {
     "name": "stdout",
     "output_type": "stream",
     "text": [
      "torch.Size([32, 3, 224, 224])\n",
      "torch.Size([32])\n"
     ]
    }
   ],
   "source": [
    "for images, labels in train_loader:\n",
    "    print(images.shape)  # e.g., torch.Size([32, 3, 224, 224])\n",
    "    print(labels.shape)  # e.g., torch.Size([32])\n",
    "    break  # chỉ in 1 batch\n"
   ]
  }
 ],
 "metadata": {
  "kernelspec": {
   "display_name": "Python (cv_aio)",
   "language": "python",
   "name": "cv_aio"
  },
  "language_info": {
   "codemirror_mode": {
    "name": "ipython",
    "version": 3
   },
   "file_extension": ".py",
   "mimetype": "text/x-python",
   "name": "python",
   "nbconvert_exporter": "python",
   "pygments_lexer": "ipython3",
   "version": "3.10.18"
  }
 },
 "nbformat": 4,
 "nbformat_minor": 5
}
