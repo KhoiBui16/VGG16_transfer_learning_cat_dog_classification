{
 "cells": [
  {
   "cell_type": "markdown",
   "id": "cd5f02f6-9760-4e76-adcb-aa97bce9b1bf",
   "metadata": {},
   "source": [
    "# Network Manipulation"
   ]
  },
  {
   "cell_type": "markdown",
   "id": "e9e0cac0-4b10-447e-9fea-1ee9959bee33",
   "metadata": {},
   "source": [
    "## Build a Simple CNN"
   ]
  },
  {
   "cell_type": "code",
   "execution_count": 1,
   "id": "6fb157e1-3478-47c4-8e47-0506d7b1c4cf",
   "metadata": {},
   "outputs": [],
   "source": [
    "import torch\n",
    "import torch.nn as nn\n",
    "\n",
    "class SimpleCNN(nn.Module):\n",
    "    def __init__(self, num_classes=10):\n",
    "        super(SimpleCNN, self).__init__()\n",
    "\n",
    "        self.features = nn.Sequential(\n",
    "            nn.Conv2d(1, 32, kernel_size=3, padding=1),\n",
    "            nn.ReLU(inplace=True),\n",
    "            nn.MaxPool2d(kernel_size=2, stride=2)\n",
    "        )\n",
    "\n",
    "        # classifier\n",
    "        self.classifier = nn.Sequential(\n",
    "            nn.Linear(32 * 14 * 14, 128),\n",
    "            nn.ReLU(inplace=True),\n",
    "            nn.Linear(128, num_classes)\n",
    "        )\n",
    "\n",
    "    def forward(self, x):\n",
    "        x = self.features(x)\n",
    "        x = torch.flatten(x, 1)\n",
    "        x = self.classifier(x)\n",
    "        return x"
   ]
  },
  {
   "cell_type": "markdown",
   "id": "fcd49c06-5831-4e1b-a6d9-bdf33b1c6cf1",
   "metadata": {},
   "source": [
    "## Check device"
   ]
  },
  {
   "cell_type": "code",
   "execution_count": 2,
   "id": "87817f20-6fe4-46b1-8d03-a4a9dbb01964",
   "metadata": {},
   "outputs": [],
   "source": [
    "device = torch.device(\"cuda\" if torch.cuda.is_available() else \"cpu\")"
   ]
  },
  {
   "cell_type": "code",
   "execution_count": 3,
   "id": "db826a8a-3603-4423-8473-85fe5f9cc332",
   "metadata": {},
   "outputs": [
    {
     "data": {
      "text/plain": [
       "device(type='cuda')"
      ]
     },
     "execution_count": 3,
     "metadata": {},
     "output_type": "execute_result"
    }
   ],
   "source": [
    "device"
   ]
  },
  {
   "cell_type": "markdown",
   "id": "805fd51f-e19c-4300-b6de-beb438fcefd3",
   "metadata": {},
   "source": [
    "## Create the model"
   ]
  },
  {
   "cell_type": "code",
   "execution_count": 4,
   "id": "7ca649ff-ef9c-41e8-b33f-25beaa99dc72",
   "metadata": {},
   "outputs": [
    {
     "name": "stdout",
     "output_type": "stream",
     "text": [
      "SimpleCNN(\n",
      "  (features): Sequential(\n",
      "    (0): Conv2d(1, 32, kernel_size=(3, 3), stride=(1, 1), padding=(1, 1))\n",
      "    (1): ReLU(inplace=True)\n",
      "    (2): MaxPool2d(kernel_size=2, stride=2, padding=0, dilation=1, ceil_mode=False)\n",
      "  )\n",
      "  (classifier): Sequential(\n",
      "    (0): Linear(in_features=6272, out_features=128, bias=True)\n",
      "    (1): ReLU(inplace=True)\n",
      "    (2): Linear(in_features=128, out_features=10, bias=True)\n",
      "  )\n",
      ")\n"
     ]
    }
   ],
   "source": [
    "model = SimpleCNN(num_classes=10).to(device)\n",
    "print(model)"
   ]
  },
  {
   "cell_type": "code",
   "execution_count": null,
   "id": "6c7c0a91-59d6-4a47-9cd5-94ac62f6127b",
   "metadata": {},
   "outputs": [],
   "source": []
  },
  {
   "cell_type": "code",
   "execution_count": 5,
   "id": "68dc6a44-874c-4d4b-8116-0bf86d7ff845",
   "metadata": {},
   "outputs": [
    {
     "name": "stdout",
     "output_type": "stream",
     "text": [
      "Sequential(\n",
      "  (0): Conv2d(1, 32, kernel_size=(3, 3), stride=(1, 1), padding=(1, 1))\n",
      "  (1): ReLU(inplace=True)\n",
      "  (2): MaxPool2d(kernel_size=2, stride=2, padding=0, dilation=1, ceil_mode=False)\n",
      ")\n"
     ]
    }
   ],
   "source": [
    "print(model.features)"
   ]
  },
  {
   "cell_type": "code",
   "execution_count": null,
   "id": "ebd5c0a8-daa9-4356-8b8c-05ed58fed89e",
   "metadata": {},
   "outputs": [],
   "source": []
  },
  {
   "cell_type": "code",
   "execution_count": 6,
   "id": "6c33c856-d88b-45a6-9f1f-8b73d453b597",
   "metadata": {},
   "outputs": [
    {
     "name": "stdout",
     "output_type": "stream",
     "text": [
      "torch.Size([32, 14, 14])\n"
     ]
    }
   ],
   "source": [
    "data = torch.randn(1, 28, 28).to(device)\n",
    "output = model.features(data)\n",
    "\n",
    "print(output.shape)"
   ]
  },
  {
   "cell_type": "markdown",
   "id": "d5132c68-d4d2-43ee-ad32-faec9f02c097",
   "metadata": {},
   "source": [
    "## Summary the model"
   ]
  },
  {
   "cell_type": "code",
   "execution_count": 7,
   "id": "338b8d6f-1023-45f5-8065-9d7bff729ea7",
   "metadata": {},
   "outputs": [
    {
     "name": "stdout",
     "output_type": "stream",
     "text": [
      "----------------------------------------------------------------\n",
      "        Layer (type)               Output Shape         Param #\n",
      "================================================================\n",
      "            Conv2d-1           [-1, 32, 28, 28]             320\n",
      "              ReLU-2           [-1, 32, 28, 28]               0\n",
      "         MaxPool2d-3           [-1, 32, 14, 14]               0\n",
      "            Linear-4                  [-1, 128]         802,944\n",
      "              ReLU-5                  [-1, 128]               0\n",
      "            Linear-6                   [-1, 10]           1,290\n",
      "================================================================\n",
      "Total params: 804,554\n",
      "Trainable params: 804,554\n",
      "Non-trainable params: 0\n",
      "----------------------------------------------------------------\n",
      "Input size (MB): 0.00\n",
      "Forward/backward pass size (MB): 0.43\n",
      "Params size (MB): 3.07\n",
      "Estimated Total Size (MB): 3.50\n",
      "----------------------------------------------------------------\n"
     ]
    }
   ],
   "source": [
    "from torchsummary import summary\n",
    "summary(model, (1, 28, 28))"
   ]
  },
  {
   "cell_type": "markdown",
   "id": "2095ee02-1a96-4578-86ae-4c6e8481a427",
   "metadata": {},
   "source": [
    "# Check if a layer is trainable"
   ]
  },
  {
   "cell_type": "markdown",
   "id": "c92f6642-f4e8-46ac-88e9-9c5086eae90e",
   "metadata": {},
   "source": [
    "## Build SimpleCNN model version 2"
   ]
  },
  {
   "cell_type": "markdown",
   "id": "ac452b42-2cdc-429e-b053-525573ab014d",
   "metadata": {},
   "source": [
    "- Check xem layer đó có tham số để train hay không"
   ]
  },
  {
   "cell_type": "code",
   "execution_count": 8,
   "id": "6210eaf9-30be-465b-be7d-0432ca512755",
   "metadata": {},
   "outputs": [],
   "source": [
    "import torch\n",
    "import torch.nn as nn\n",
    "\n",
    "class SimpleCNN(nn.Module):\n",
    "    def __init__(self, num_classes=10):\n",
    "        super(SimpleCNN, self).__init__()\n",
    "\n",
    "        # Convolutionary layers\n",
    "        self.features = nn.Sequential(\n",
    "\n",
    "            # First block\n",
    "            nn.Conv2d(1, 32, kernel_size=3, padding=1),\n",
    "            nn.ReLU(inplace=True),\n",
    "            nn.MaxPool2d(kernel_size=2, stride=2),\n",
    "\n",
    "            # Second block\n",
    "            nn.Conv2d(32, 64, kernel_size=3, padding=1),\n",
    "            nn.ReLU(inplace=True),\n",
    "            nn.MaxPool2d(kernel_size=2, stride=2),\n",
    "        )\n",
    "\n",
    "        # classifier\n",
    "        self.classifier = nn.Sequential(\n",
    "            nn.Linear(64 * 7 * 7, 128),\n",
    "            nn.ReLU(inplace=True),\n",
    "            nn.Linear(128, num_classes)\n",
    "        )\n",
    "\n",
    "    def forward(self, x):\n",
    "        x = self.features(x)\n",
    "        x = torch.flatten(x, 1)\n",
    "        x = self.classifier(x)\n",
    "        return x"
   ]
  },
  {
   "cell_type": "code",
   "execution_count": 9,
   "id": "17da4bce-b45a-4135-b092-e4606062d5f5",
   "metadata": {},
   "outputs": [
    {
     "name": "stdout",
     "output_type": "stream",
     "text": [
      "SimpleCNN(\n",
      "  (features): Sequential(\n",
      "    (0): Conv2d(1, 32, kernel_size=(3, 3), stride=(1, 1), padding=(1, 1))\n",
      "    (1): ReLU(inplace=True)\n",
      "    (2): MaxPool2d(kernel_size=2, stride=2, padding=0, dilation=1, ceil_mode=False)\n",
      "    (3): Conv2d(32, 64, kernel_size=(3, 3), stride=(1, 1), padding=(1, 1))\n",
      "    (4): ReLU(inplace=True)\n",
      "    (5): MaxPool2d(kernel_size=2, stride=2, padding=0, dilation=1, ceil_mode=False)\n",
      "  )\n",
      "  (classifier): Sequential(\n",
      "    (0): Linear(in_features=3136, out_features=128, bias=True)\n",
      "    (1): ReLU(inplace=True)\n",
      "    (2): Linear(in_features=128, out_features=10, bias=True)\n",
      "  )\n",
      ")\n"
     ]
    }
   ],
   "source": [
    "model = SimpleCNN(num_classes=10).to(device)\n",
    "print(model)"
   ]
  },
  {
   "cell_type": "code",
   "execution_count": 10,
   "id": "24ffbe2f-7bb8-443e-9449-7bd101c4ea06",
   "metadata": {},
   "outputs": [
    {
     "name": "stdout",
     "output_type": "stream",
     "text": [
      "torch.Size([32, 14, 14])\n"
     ]
    }
   ],
   "source": [
    "data = torch.randn(1, 28, 28).to(device)\n",
    "otuput = model.features(data)\n",
    "print(output.shape)"
   ]
  },
  {
   "cell_type": "code",
   "execution_count": 11,
   "id": "db853fab-c6a3-4281-b126-e93babed020a",
   "metadata": {},
   "outputs": [
    {
     "name": "stdout",
     "output_type": "stream",
     "text": [
      "----------------------------------------------------------------\n",
      "        Layer (type)               Output Shape         Param #\n",
      "================================================================\n",
      "            Conv2d-1           [-1, 32, 28, 28]             320\n",
      "              ReLU-2           [-1, 32, 28, 28]               0\n",
      "         MaxPool2d-3           [-1, 32, 14, 14]               0\n",
      "            Conv2d-4           [-1, 64, 14, 14]          18,496\n",
      "              ReLU-5           [-1, 64, 14, 14]               0\n",
      "         MaxPool2d-6             [-1, 64, 7, 7]               0\n",
      "            Linear-7                  [-1, 128]         401,536\n",
      "              ReLU-8                  [-1, 128]               0\n",
      "            Linear-9                   [-1, 10]           1,290\n",
      "================================================================\n",
      "Total params: 421,642\n",
      "Trainable params: 421,642\n",
      "Non-trainable params: 0\n",
      "----------------------------------------------------------------\n",
      "Input size (MB): 0.00\n",
      "Forward/backward pass size (MB): 0.65\n",
      "Params size (MB): 1.61\n",
      "Estimated Total Size (MB): 2.26\n",
      "----------------------------------------------------------------\n"
     ]
    }
   ],
   "source": [
    "summary(model, (1, 28, 28))"
   ]
  },
  {
   "cell_type": "markdown",
   "id": "840f5eb7-e2e7-4bae-bc55-d6954f58c0fe",
   "metadata": {},
   "source": [
    "## Check layer is trainable ?"
   ]
  },
  {
   "cell_type": "code",
   "execution_count": 12,
   "id": "c4f5665c-63c4-41a5-bd75-697766dcb7d3",
   "metadata": {},
   "outputs": [
    {
     "name": "stdout",
     "output_type": "stream",
     "text": [
      ": Trainable\n",
      "features: Trainable\n",
      "features.0: Trainable\n",
      "features.1: Not Trainable\n",
      "features.2: Not Trainable\n",
      "features.3: Trainable\n",
      "features.4: Not Trainable\n",
      "features.5: Not Trainable\n",
      "classifier: Trainable\n",
      "classifier.0: Trainable\n",
      "classifier.1: Not Trainable\n",
      "classifier.2: Trainable\n"
     ]
    }
   ],
   "source": [
    "for name, module in model.named_modules():\n",
    "    if hasattr(module, 'parameters'):\n",
    "        is_trainable = any(param.requires_grad for param in module.parameters())\n",
    "        print(f\"{name}: {'Trainable' if is_trainable else 'Not Trainable'}\")"
   ]
  },
  {
   "cell_type": "markdown",
   "id": "4197f04e-7b3c-4fd3-b77b-7da9e01a6cda",
   "metadata": {},
   "source": [
    "- Dùng tính hiệu trên để biết thao tác đúng hay ko"
   ]
  },
  {
   "cell_type": "markdown",
   "id": "35262ffd-3e6e-4410-b45b-ee774dea6b1b",
   "metadata": {},
   "source": [
    "## Để transfer learning\n",
    "- dùng `đóng băng (freeze) khối features` => train lại phần classifier mong muốn theo task\n",
    "- Chuyển `param.requires_grad=False`"
   ]
  },
  {
   "cell_type": "markdown",
   "id": "b1f39de6-2cb7-4b2a-861f-86b4a55b40d9",
   "metadata": {},
   "source": [
    "## Test freeze features-layers"
   ]
  },
  {
   "cell_type": "code",
   "execution_count": 13,
   "id": "45c7cddb-d39a-4a44-9122-6754d6103a3e",
   "metadata": {},
   "outputs": [],
   "source": [
    "for param in model.features.parameters():\n",
    "    param.requires_grad = False"
   ]
  },
  {
   "cell_type": "code",
   "execution_count": 14,
   "id": "38538d61-496a-4b9e-97c2-a29f18a943b3",
   "metadata": {},
   "outputs": [
    {
     "name": "stdout",
     "output_type": "stream",
     "text": [
      "----------------------------------------------------------------\n",
      "        Layer (type)               Output Shape         Param #\n",
      "================================================================\n",
      "            Conv2d-1           [-1, 32, 28, 28]             320\n",
      "              ReLU-2           [-1, 32, 28, 28]               0\n",
      "         MaxPool2d-3           [-1, 32, 14, 14]               0\n",
      "            Conv2d-4           [-1, 64, 14, 14]          18,496\n",
      "              ReLU-5           [-1, 64, 14, 14]               0\n",
      "         MaxPool2d-6             [-1, 64, 7, 7]               0\n",
      "            Linear-7                  [-1, 128]         401,536\n",
      "              ReLU-8                  [-1, 128]               0\n",
      "            Linear-9                   [-1, 10]           1,290\n",
      "================================================================\n",
      "Total params: 421,642\n",
      "Trainable params: 402,826\n",
      "Non-trainable params: 18,816\n",
      "----------------------------------------------------------------\n",
      "Input size (MB): 0.00\n",
      "Forward/backward pass size (MB): 0.65\n",
      "Params size (MB): 1.61\n",
      "Estimated Total Size (MB): 2.26\n",
      "----------------------------------------------------------------\n"
     ]
    }
   ],
   "source": [
    "from torchsummary import summary\n",
    "summary(model, (1, 28, 28))"
   ]
  },
  {
   "cell_type": "code",
   "execution_count": 15,
   "id": "1eea5413-c32a-4302-abe9-bcabc6489da2",
   "metadata": {},
   "outputs": [
    {
     "name": "stdout",
     "output_type": "stream",
     "text": [
      ": Trainable\n",
      "features: Not Trainable\n",
      "features.0: Not Trainable\n",
      "features.1: Not Trainable\n",
      "features.2: Not Trainable\n",
      "features.3: Not Trainable\n",
      "features.4: Not Trainable\n",
      "features.5: Not Trainable\n",
      "classifier: Trainable\n",
      "classifier.0: Trainable\n",
      "classifier.1: Not Trainable\n",
      "classifier.2: Trainable\n"
     ]
    }
   ],
   "source": [
    "for name, module in model.named_modules():\n",
    "    if hasattr(module, 'parameters'):\n",
    "        is_trainable = any(param.requires_grad for param in module.parameters())\n",
    "        print(f\"{name}: {'Trainable' if is_trainable else 'Not Trainable'}\")"
   ]
  },
  {
   "cell_type": "markdown",
   "id": "7aec8488-6d07-4c75-adae-7c03e55f5cfa",
   "metadata": {},
   "source": [
    "## Đã freeze layer thành công "
   ]
  },
  {
   "cell_type": "markdown",
   "id": "3b7381fd-2534-4c49-aa1b-be25cf867ef4",
   "metadata": {},
   "source": [
    "# Test on VGG16 model"
   ]
  },
  {
   "cell_type": "code",
   "execution_count": 16,
   "id": "77daa7bc-27dd-475b-96fc-7cb21d33809f",
   "metadata": {},
   "outputs": [],
   "source": [
    "import torch\n",
    "import torch.nn\n",
    "from torchsummary import summary"
   ]
  },
  {
   "cell_type": "code",
   "execution_count": 19,
   "id": "d1bdab4a-8e2c-4563-94bc-d477b791b587",
   "metadata": {},
   "outputs": [],
   "source": [
    "class CustomVGG16(nn.Module):\n",
    "    def __init__(self, num_classes=10):\n",
    "        super(CustomVGG16, self).__init__()\n",
    "        self.num_classes = num_classses\n",
    "\n",
    "        self.features = nn.Sequentail(\n",
    "            # First block\n",
    "            nn.Conv2d(3, 64, kernel_size=3, padding=1),\n",
    "            nn.ReLU(inplace=True),\n",
    "            nn.Conv2d(64, 64, kernel_size=3, padding=1),\n",
    "            nn.ReLU(inplace=True),\n",
    "            nn.MaxPooling2d(kenel_size=2, stride=2),\n",
    "            \n",
    "            # Second block\n",
    "            nn.Conv2d(64, 128, kernel_size=3, padding=1),\n",
    "            nn.ReLU(inplace=True),\n",
    "            nn.Conv2d(128, 128, kenel_size=3, padding=1),\n",
    "            nn.ReLU(inplace=True),\n",
    "            nn.MaxPooling2d(kernel_size=2, stride=2),\n",
    "\n",
    "            # Third block\n",
    "            nn.Conv2d(128, 256, kernel_size=3, padding=1),\n",
    "            nn.ReLU(inplace=True),\n",
    "            nn.Conv2d(256, 256, kernel_size=3, padding=1),\n",
    "            nn.ReLU(inplace=True),\n",
    "            nn.Conv2d(256, 256, kernel_size=3, padding=1),\n",
    "            nn.ReLU(inplace=True),\n",
    "            nn.MaxPooling2d(kenel_size=2, stride=2),\n",
    "\n",
    "            # Fourth block\n",
    "            nn.Conv2d(256, 512, kernel_size=3, padding=1),\n",
    "            nn.ReLU(inplace=True),\n",
    "            nn.Conv2d(512, 512, kernel_size=3, padding=1),\n",
    "            nn.ReLU(inplace=True),\n",
    "            nn.Conv2d(512, 512, kernel_size=3, padding=1),\n",
    "            nn.ReLU(inplace=True),\n",
    "            nn.MaxPooling2d(kenel_size=2, stride=2),\n",
    "\n",
    "            # Fifth block\n",
    "            nn.Conv2d(512, 512, kernel_size=3, padding=1),\n",
    "            nn.ReLU(inplace=True),\n",
    "            nn.Conv2d(512, 512, kernel_size=3, padding=1),\n",
    "            nn.ReLU(inplace=True),\n",
    "            nn.Conv2d(512, 512, kernel_size=3, padding=1),\n",
    "            nn.ReLU(inplace=True),\n",
    "            nn.MaxPooling2d(kenel_size=2, stride=2),\n",
    "        )\n",
    "\n",
    "        self.classifier(\n",
    "            nn.Linear(512 * 7 * 7, 4096),\n",
    "            nn.ReLU(inplace=True),\n",
    "            nn.Dropout(),\n",
    "            nn.Linear(4096, 4096),\n",
    "            nn.ReLU(inplace=True),\n",
    "            nn.Dropout(),\n",
    "            nn.Linear(4096, num_classes)\n",
    "        )\n",
    "\n",
    "    def forward(self, x):\n",
    "        x = self.features(x)\n",
    "        x = torch.flatten(x, 1)\n",
    "        x = self.classifer(x)\n",
    "\n",
    "        return x"
   ]
  },
  {
   "cell_type": "markdown",
   "id": "f640d660-68ad-4e51-82fe-0701a6f9c811",
   "metadata": {},
   "source": [
    "## Get VGG16 model from torchvision"
   ]
  },
  {
   "cell_type": "code",
   "execution_count": 23,
   "id": "03bdeb98-f2df-427b-9dd5-475f4c95ef5f",
   "metadata": {},
   "outputs": [],
   "source": [
    "from torchsummary import summary\n",
    "import torchvision.models as models"
   ]
  },
  {
   "cell_type": "code",
   "execution_count": 26,
   "id": "0f196d04-84d3-4328-94e7-1170246af017",
   "metadata": {},
   "outputs": [
    {
     "name": "stdout",
     "output_type": "stream",
     "text": [
      "----------------------------------------------------------------\n",
      "        Layer (type)               Output Shape         Param #\n",
      "================================================================\n",
      "            Conv2d-1         [-1, 64, 224, 224]           1,792\n",
      "              ReLU-2         [-1, 64, 224, 224]               0\n",
      "            Conv2d-3         [-1, 64, 224, 224]          36,928\n",
      "              ReLU-4         [-1, 64, 224, 224]               0\n",
      "         MaxPool2d-5         [-1, 64, 112, 112]               0\n",
      "            Conv2d-6        [-1, 128, 112, 112]          73,856\n",
      "              ReLU-7        [-1, 128, 112, 112]               0\n",
      "            Conv2d-8        [-1, 128, 112, 112]         147,584\n",
      "              ReLU-9        [-1, 128, 112, 112]               0\n",
      "        MaxPool2d-10          [-1, 128, 56, 56]               0\n",
      "           Conv2d-11          [-1, 256, 56, 56]         295,168\n",
      "             ReLU-12          [-1, 256, 56, 56]               0\n",
      "           Conv2d-13          [-1, 256, 56, 56]         590,080\n",
      "             ReLU-14          [-1, 256, 56, 56]               0\n",
      "           Conv2d-15          [-1, 256, 56, 56]         590,080\n",
      "             ReLU-16          [-1, 256, 56, 56]               0\n",
      "        MaxPool2d-17          [-1, 256, 28, 28]               0\n",
      "           Conv2d-18          [-1, 512, 28, 28]       1,180,160\n",
      "             ReLU-19          [-1, 512, 28, 28]               0\n",
      "           Conv2d-20          [-1, 512, 28, 28]       2,359,808\n",
      "             ReLU-21          [-1, 512, 28, 28]               0\n",
      "           Conv2d-22          [-1, 512, 28, 28]       2,359,808\n",
      "             ReLU-23          [-1, 512, 28, 28]               0\n",
      "        MaxPool2d-24          [-1, 512, 14, 14]               0\n",
      "           Conv2d-25          [-1, 512, 14, 14]       2,359,808\n",
      "             ReLU-26          [-1, 512, 14, 14]               0\n",
      "           Conv2d-27          [-1, 512, 14, 14]       2,359,808\n",
      "             ReLU-28          [-1, 512, 14, 14]               0\n",
      "           Conv2d-29          [-1, 512, 14, 14]       2,359,808\n",
      "             ReLU-30          [-1, 512, 14, 14]               0\n",
      "        MaxPool2d-31            [-1, 512, 7, 7]               0\n",
      "AdaptiveAvgPool2d-32            [-1, 512, 7, 7]               0\n",
      "           Linear-33                 [-1, 4096]     102,764,544\n",
      "             ReLU-34                 [-1, 4096]               0\n",
      "          Dropout-35                 [-1, 4096]               0\n",
      "           Linear-36                 [-1, 4096]      16,781,312\n",
      "             ReLU-37                 [-1, 4096]               0\n",
      "          Dropout-38                 [-1, 4096]               0\n",
      "           Linear-39                 [-1, 1000]       4,097,000\n",
      "================================================================\n",
      "Total params: 138,357,544\n",
      "Trainable params: 138,357,544\n",
      "Non-trainable params: 0\n",
      "----------------------------------------------------------------\n",
      "Input size (MB): 0.57\n",
      "Forward/backward pass size (MB): 218.78\n",
      "Params size (MB): 527.79\n",
      "Estimated Total Size (MB): 747.15\n",
      "----------------------------------------------------------------\n"
     ]
    }
   ],
   "source": [
    "vgg16 = models.vgg16().to(device)\n",
    "summary(vgg16, (3, 224, 224), device=str(device))"
   ]
  },
  {
   "cell_type": "code",
   "execution_count": null,
   "id": "c15f1746-2f98-43c2-b2ae-e6affdc3f9b1",
   "metadata": {},
   "outputs": [],
   "source": []
  },
  {
   "cell_type": "code",
   "execution_count": null,
   "id": "c0f3d87e-ac1f-4b05-b490-730a8fcbd331",
   "metadata": {},
   "outputs": [],
   "source": []
  }
 ],
 "metadata": {
  "kernelspec": {
   "display_name": "Python (cv_aio)",
   "language": "python",
   "name": "cv_aio"
  },
  "language_info": {
   "codemirror_mode": {
    "name": "ipython",
    "version": 3
   },
   "file_extension": ".py",
   "mimetype": "text/x-python",
   "name": "python",
   "nbconvert_exporter": "python",
   "pygments_lexer": "ipython3",
   "version": "3.10.18"
  }
 },
 "nbformat": 4,
 "nbformat_minor": 5
}
